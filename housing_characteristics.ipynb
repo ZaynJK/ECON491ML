{
 "cells": [
  {
   "cell_type": "code",
   "execution_count": 2,
   "metadata": {},
   "outputs": [],
   "source": [
    "import pandas as pd\n",
    "import geopandas as gpd\n",
    "import numpy as np\n",
    "import matplotlib.pyplot as plt"
   ]
  },
  {
   "cell_type": "code",
   "execution_count": 3,
   "metadata": {},
   "outputs": [],
   "source": [
    "df = pd.read_csv(\"housing.csv\", low_memory=False)\n"
   ]
  },
  {
   "cell_type": "code",
   "execution_count": 4,
   "metadata": {},
   "outputs": [
    {
     "name": "stdout",
     "output_type": "stream",
     "text": [
      "Property Index Number                         object\n",
      "Assessment Triad                              object\n",
      "Property Class                                 int64\n",
      "Property Address                              object\n",
      "Property Apartment Num.                       object\n",
      "Property City                                 object\n",
      "Township Name                                 object\n",
      "Township Code                                  int64\n",
      "Neighborhood Code                              int64\n",
      "Township Neighborhood Only                     int64\n",
      "Modeling Group                                object\n",
      "Proportion Assessed                          float64\n",
      "Key PIN                                       object\n",
      "Multi Code Indicator                           int64\n",
      "Multi Code                                   float64\n",
      "Number of Active 288s (HIEs)                 float64\n",
      "Number of Ended 288s (HIEs)                  float64\n",
      "Sale Date                                     object\n",
      "Sale Price                                   float64\n",
      "Sale Document Number                         float64\n",
      "Land Square Feet                             float64\n",
      "Large Home Indicator                          object\n",
      "Age                                            int64\n",
      "Apartments                                    object\n",
      "Wall Material                                 object\n",
      "Roof Material                                 object\n",
      "Rooms                                        float64\n",
      "Bedrooms                                     float64\n",
      "Basement                                      object\n",
      "Basement Finish                               object\n",
      "Central Heating                               object\n",
      "Central Air Conditioning                      object\n",
      "Fireplaces                                   float64\n",
      "Attic Type                                    object\n",
      "Full Baths                                   float64\n",
      "Half Baths                                   float64\n",
      "Design Plan                                   object\n",
      "Cathedral Ceiling                             object\n",
      "Garage 1 Size                                 object\n",
      "Garage 1 Material                             object\n",
      "Garage 1 Attached                             object\n",
      "Garage 1 Area                                 object\n",
      "Building Square Feet                         float64\n",
      "Repair Condition                              object\n",
      "Use                                           object\n",
      "Type of Residence                             object\n",
      "Attic Finish                                  object\n",
      "Renovation                                    object\n",
      "Porch                                         object\n",
      "Property Zip Code                             object\n",
      "Tract GEOID                                    int64\n",
      "Municipality FIPS Code                       float64\n",
      "Municipality Name                             object\n",
      "O'Hare Noise Indicator                         int64\n",
      "FEMA Floodplain                                int64\n",
      "Flood Risk Factor                              int64\n",
      "Flood Risk Direction                           int64\n",
      "Road Proximity < 100 Feet                      int64\n",
      "Road Proximity 101 - 300 Feet                  int64\n",
      "Elementary/Middle School District             object\n",
      "High School District                          object\n",
      "Longitude                                    float64\n",
      "Latitude                                     float64\n",
      "geoposition                                   object\n",
      "Tax Rate                                     float64\n",
      "Tract Median Income                            int64\n",
      "Condo Model: Building PIN                     object\n",
      "Condo Model: Modeled Unit Strata (of 10)      object\n",
      "Condo Model: Modeled Unit Strata (of 300)     object\n",
      "Modeled Sale Year                              int64\n",
      "Modeled Sale Month of Year                    object\n",
      "Modeled Sale Day of Year                       int64\n",
      "Modeled Sale Week of Year                      int64\n",
      "Modeled Sale Quarter of Year                  object\n",
      "Modeled Sale Quarter                           int64\n",
      "Modeled Sale Month                             int64\n",
      "Modeled Sale Week                              int64\n",
      "Modeled Sale Day                               int64\n",
      "Modeled Sale During School Year                 bool\n",
      "Modeled Sale During Holidays                    bool\n",
      "dtype: object\n"
     ]
    }
   ],
   "source": [
    "pd.set_option('display.max_rows', 120)\n",
    "print(df.dtypes)"
   ]
  },
  {
   "cell_type": "code",
   "execution_count": 5,
   "metadata": {},
   "outputs": [],
   "source": [
    "df2 = df[\n",
    "    [\n",
    "        \"Property Index Number\",\n",
    "        \"Property Class\",\n",
    "        \"Township Name\",\n",
    "        \"Number of Active 288s (HIEs)\",\n",
    "        \"Number of Ended 288s (HIEs)\",\n",
    "        \"Sale Price\",\n",
    "        \"Land Square Feet\",\n",
    "        \"Large Home Indicator\",\n",
    "        \"Age\",\n",
    "        \"Apartments\",\n",
    "        \"Wall Material\",\n",
    "        \"Roof Material\",\n",
    "        \"Rooms\",\n",
    "        \"Bedrooms\",\n",
    "        \"Basement\",\n",
    "        \"Basement Finish\",\n",
    "        \"Central Heating\",\n",
    "        \"Central Air Conditioning\",\n",
    "        \"Fireplaces\",\n",
    "        \"Attic Type\",\n",
    "        \"Full Baths\",\n",
    "        \"Half Baths\",\n",
    "        \"Cathedral Ceiling\",\n",
    "        \"Garage 1 Size\",\n",
    "        \"Garage 1 Material\",\n",
    "        \"Garage 1 Attached\",\n",
    "        \"Garage 1 Area\",\n",
    "        \"Building Square Feet\",\n",
    "        \"Repair Condition\",\n",
    "        \"Attic Finish\",\n",
    "        \"Renovation\",\n",
    "        \"Porch\",\n",
    "        # \"Property Zip Code\",\n",
    "        \"Tract GEOID\",\n",
    "        \"O'Hare Noise Indicator\",\n",
    "        \"FEMA Floodplain\",\n",
    "        \"Flood Risk Factor\",\n",
    "        \"Flood Risk Direction\",\n",
    "        \"Road Proximity < 100 Feet\",\n",
    "        \"Road Proximity 101 - 300 Feet\",\n",
    "        \"Elementary/Middle School District\",\n",
    "        \"High School District\",\n",
    "        \"Longitude\",\n",
    "        \"Latitude\",\n",
    "        # \"geoposition\",\n",
    "        \"Tax Rate\",\n",
    "        \"Tract Median Income\",\n",
    "        \"Modeled Sale Year\",\n",
    "        \"Modeled Sale Month\",\n",
    "        \"Modeled Sale Day\",\n",
    "        \"Modeled Sale During School Year\",\n",
    "        \"Modeled Sale During Holidays\",\n",
    "    ]\n",
    "]\n",
    "\n",
    "df2.to_csv(\"housing_cleaned.csv\")"
   ]
  },
  {
   "cell_type": "code",
   "execution_count": 6,
   "metadata": {},
   "outputs": [],
   "source": [
    "import pandas as pd\n",
    "import numpy as np\n",
    "from sklearn.feature_selection import SequentialFeatureSelector\n",
    "from sklearn.linear_model import Ridge"
   ]
  },
  {
   "attachments": {},
   "cell_type": "markdown",
   "metadata": {},
   "source": [
    "# Import Dataset\n",
    "\n",
    "link to dataset: https://datacatalog.cookcountyil.gov/Property-Taxation/Assessor-Archived-05-11-2022-Residential-Modeling-/8f9d-wy2d\n"
   ]
  },
  {
   "cell_type": "code",
   "execution_count": 7,
   "metadata": {},
   "outputs": [
    {
     "name": "stdout",
     "output_type": "stream",
     "text": [
      "(678656, 50)\n",
      "(78156, 50)\n"
     ]
    },
    {
     "name": "stderr",
     "output_type": "stream",
     "text": [
      "/var/folders/w8/480pcx_d3bx9y45bcf4fz7800000gn/T/ipykernel_60329/1126815284.py:2: SettingWithCopyWarning: \n",
      "A value is trying to be set on a copy of a slice from a DataFrame\n",
      "\n",
      "See the caveats in the documentation: https://pandas.pydata.org/pandas-docs/stable/user_guide/indexing.html#returning-a-view-versus-a-copy\n",
      "  df2.dropna(subset=[\"Sale Price\"], inplace=True)\n"
     ]
    }
   ],
   "source": [
    "print(df2.shape)\n",
    "df2.dropna(subset=[\"Sale Price\"], inplace=True)\n",
    "print(df2.shape)\n",
    "# df2.to_csv(\"housing2.csv\", index=False)"
   ]
  },
  {
   "cell_type": "code",
   "execution_count": 8,
   "metadata": {},
   "outputs": [
    {
     "name": "stderr",
     "output_type": "stream",
     "text": [
      "/var/folders/w8/480pcx_d3bx9y45bcf4fz7800000gn/T/ipykernel_60329/3112742252.py:7: SettingWithCopyWarning: \n",
      "A value is trying to be set on a copy of a slice from a DataFrame\n",
      "\n",
      "See the caveats in the documentation: https://pandas.pydata.org/pandas-docs/stable/user_guide/indexing.html#returning-a-view-versus-a-copy\n",
      "  df2[x].replace(df2[x].unique(), range(len(df2[x].unique())), inplace=True)\n",
      "/var/folders/w8/480pcx_d3bx9y45bcf4fz7800000gn/T/ipykernel_60329/3112742252.py:8: SettingWithCopyWarning: \n",
      "A value is trying to be set on a copy of a slice from a DataFrame.\n",
      "Try using .loc[row_indexer,col_indexer] = value instead\n",
      "\n",
      "See the caveats in the documentation: https://pandas.pydata.org/pandas-docs/stable/user_guide/indexing.html#returning-a-view-versus-a-copy\n",
      "  df2[x] = df2[x].astype('category')\n"
     ]
    }
   ],
   "source": [
    "if 'Property Index Number' in df2.columns:\n",
    "\tdf2.set_index('Property Index Number', inplace=True)\n",
    "\t\n",
    "for x in df2.columns:\n",
    "\t# print(x)\n",
    "\tif df2[x].dtype == 'object':\n",
    "\t\tdf2[x].replace(df2[x].unique(), range(len(df2[x].unique())), inplace=True)\n",
    "\t\tdf2[x] = df2[x].astype('category')\n",
    "\t\n",
    "\n",
    "\t\n",
    "df2 = df2.dropna()\n",
    "\n",
    "\n"
   ]
  },
  {
   "cell_type": "code",
   "execution_count": 9,
   "metadata": {},
   "outputs": [
    {
     "data": {
      "text/html": [
       "<style>#sk-container-id-1 {color: black;background-color: white;}#sk-container-id-1 pre{padding: 0;}#sk-container-id-1 div.sk-toggleable {background-color: white;}#sk-container-id-1 label.sk-toggleable__label {cursor: pointer;display: block;width: 100%;margin-bottom: 0;padding: 0.3em;box-sizing: border-box;text-align: center;}#sk-container-id-1 label.sk-toggleable__label-arrow:before {content: \"▸\";float: left;margin-right: 0.25em;color: #696969;}#sk-container-id-1 label.sk-toggleable__label-arrow:hover:before {color: black;}#sk-container-id-1 div.sk-estimator:hover label.sk-toggleable__label-arrow:before {color: black;}#sk-container-id-1 div.sk-toggleable__content {max-height: 0;max-width: 0;overflow: hidden;text-align: left;background-color: #f0f8ff;}#sk-container-id-1 div.sk-toggleable__content pre {margin: 0.2em;color: black;border-radius: 0.25em;background-color: #f0f8ff;}#sk-container-id-1 input.sk-toggleable__control:checked~div.sk-toggleable__content {max-height: 200px;max-width: 100%;overflow: auto;}#sk-container-id-1 input.sk-toggleable__control:checked~label.sk-toggleable__label-arrow:before {content: \"▾\";}#sk-container-id-1 div.sk-estimator input.sk-toggleable__control:checked~label.sk-toggleable__label {background-color: #d4ebff;}#sk-container-id-1 div.sk-label input.sk-toggleable__control:checked~label.sk-toggleable__label {background-color: #d4ebff;}#sk-container-id-1 input.sk-hidden--visually {border: 0;clip: rect(1px 1px 1px 1px);clip: rect(1px, 1px, 1px, 1px);height: 1px;margin: -1px;overflow: hidden;padding: 0;position: absolute;width: 1px;}#sk-container-id-1 div.sk-estimator {font-family: monospace;background-color: #f0f8ff;border: 1px dotted black;border-radius: 0.25em;box-sizing: border-box;margin-bottom: 0.5em;}#sk-container-id-1 div.sk-estimator:hover {background-color: #d4ebff;}#sk-container-id-1 div.sk-parallel-item::after {content: \"\";width: 100%;border-bottom: 1px solid gray;flex-grow: 1;}#sk-container-id-1 div.sk-label:hover label.sk-toggleable__label {background-color: #d4ebff;}#sk-container-id-1 div.sk-serial::before {content: \"\";position: absolute;border-left: 1px solid gray;box-sizing: border-box;top: 0;bottom: 0;left: 50%;z-index: 0;}#sk-container-id-1 div.sk-serial {display: flex;flex-direction: column;align-items: center;background-color: white;padding-right: 0.2em;padding-left: 0.2em;position: relative;}#sk-container-id-1 div.sk-item {position: relative;z-index: 1;}#sk-container-id-1 div.sk-parallel {display: flex;align-items: stretch;justify-content: center;background-color: white;position: relative;}#sk-container-id-1 div.sk-item::before, #sk-container-id-1 div.sk-parallel-item::before {content: \"\";position: absolute;border-left: 1px solid gray;box-sizing: border-box;top: 0;bottom: 0;left: 50%;z-index: -1;}#sk-container-id-1 div.sk-parallel-item {display: flex;flex-direction: column;z-index: 1;position: relative;background-color: white;}#sk-container-id-1 div.sk-parallel-item:first-child::after {align-self: flex-end;width: 50%;}#sk-container-id-1 div.sk-parallel-item:last-child::after {align-self: flex-start;width: 50%;}#sk-container-id-1 div.sk-parallel-item:only-child::after {width: 0;}#sk-container-id-1 div.sk-dashed-wrapped {border: 1px dashed gray;margin: 0 0.4em 0.5em 0.4em;box-sizing: border-box;padding-bottom: 0.4em;background-color: white;}#sk-container-id-1 div.sk-label label {font-family: monospace;font-weight: bold;display: inline-block;line-height: 1.2em;}#sk-container-id-1 div.sk-label-container {text-align: center;}#sk-container-id-1 div.sk-container {/* jupyter's `normalize.less` sets `[hidden] { display: none; }` but bootstrap.min.css set `[hidden] { display: none !important; }` so we also need the `!important` here to be able to override the default hidden behavior on the sphinx rendered scikit-learn.org. See: https://github.com/scikit-learn/scikit-learn/issues/21755 */display: inline-block !important;position: relative;}#sk-container-id-1 div.sk-text-repr-fallback {display: none;}</style><div id=\"sk-container-id-1\" class=\"sk-top-container\"><div class=\"sk-text-repr-fallback\"><pre>SequentialFeatureSelector(estimator=Ridge(), n_features_to_select=&#x27;auto&#x27;,\n",
       "                          tol=0.001)</pre><b>In a Jupyter environment, please rerun this cell to show the HTML representation or trust the notebook. <br />On GitHub, the HTML representation is unable to render, please try loading this page with nbviewer.org.</b></div><div class=\"sk-container\" hidden><div class=\"sk-item sk-dashed-wrapped\"><div class=\"sk-label-container\"><div class=\"sk-label sk-toggleable\"><input class=\"sk-toggleable__control sk-hidden--visually\" id=\"sk-estimator-id-1\" type=\"checkbox\" ><label for=\"sk-estimator-id-1\" class=\"sk-toggleable__label sk-toggleable__label-arrow\">SequentialFeatureSelector</label><div class=\"sk-toggleable__content\"><pre>SequentialFeatureSelector(estimator=Ridge(), n_features_to_select=&#x27;auto&#x27;,\n",
       "                          tol=0.001)</pre></div></div></div><div class=\"sk-parallel\"><div class=\"sk-parallel-item\"><div class=\"sk-item\"><div class=\"sk-label-container\"><div class=\"sk-label sk-toggleable\"><input class=\"sk-toggleable__control sk-hidden--visually\" id=\"sk-estimator-id-2\" type=\"checkbox\" ><label for=\"sk-estimator-id-2\" class=\"sk-toggleable__label sk-toggleable__label-arrow\">estimator: Ridge</label><div class=\"sk-toggleable__content\"><pre>Ridge()</pre></div></div></div><div class=\"sk-serial\"><div class=\"sk-item\"><div class=\"sk-estimator sk-toggleable\"><input class=\"sk-toggleable__control sk-hidden--visually\" id=\"sk-estimator-id-3\" type=\"checkbox\" ><label for=\"sk-estimator-id-3\" class=\"sk-toggleable__label sk-toggleable__label-arrow\">Ridge</label><div class=\"sk-toggleable__content\"><pre>Ridge()</pre></div></div></div></div></div></div></div></div></div></div>"
      ],
      "text/plain": [
       "SequentialFeatureSelector(estimator=Ridge(), n_features_to_select='auto',\n",
       "                          tol=0.001)"
      ]
     },
     "execution_count": 9,
     "metadata": {},
     "output_type": "execute_result"
    }
   ],
   "source": [
    "lm = Ridge(fit_intercept=True)\n",
    "sfs = SequentialFeatureSelector(lm, n_features_to_select='auto', direction='forward', tol=0.001)\n",
    "sfs.fit(df2.drop('Sale Price', axis=1), df2['Sale Price'])"
   ]
  },
  {
   "cell_type": "code",
   "execution_count": 10,
   "metadata": {},
   "outputs": [
    {
     "data": {
      "text/plain": [
       "array(['Property Class', 'Number of Active 288s (HIEs)',\n",
       "       'Number of Ended 288s (HIEs)', 'Large Home Indicator',\n",
       "       'Wall Material', 'Roof Material', 'Fireplaces', 'Full Baths',\n",
       "       'Cathedral Ceiling', 'Repair Condition', 'Renovation',\n",
       "       \"O'Hare Noise Indicator\", 'Flood Risk Factor',\n",
       "       'Elementary/Middle School District', 'Tract Median Income'],\n",
       "      dtype=object)"
      ]
     },
     "execution_count": 10,
     "metadata": {},
     "output_type": "execute_result"
    }
   ],
   "source": [
    "sfs.get_support()\n",
    "sfs.get_feature_names_out()"
   ]
  },
  {
   "cell_type": "code",
   "execution_count": 11,
   "metadata": {},
   "outputs": [],
   "source": [
    "X = sfs.transform(df2.drop('Sale Price', axis=1))\n",
    "Y = df2['Sale Price']"
   ]
  }
 ],
 "metadata": {
  "kernelspec": {
   "display_name": "Python 3",
   "language": "python",
   "name": "python3"
  },
  "language_info": {
   "codemirror_mode": {
    "name": "ipython",
    "version": 3
   },
   "file_extension": ".py",
   "mimetype": "text/x-python",
   "name": "python",
   "nbconvert_exporter": "python",
   "pygments_lexer": "ipython3",
   "version": "3.10.9"
  },
  "orig_nbformat": 4
 },
 "nbformat": 4,
 "nbformat_minor": 2
}
