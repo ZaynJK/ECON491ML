{
 "cells": [
  {
   "cell_type": "code",
   "execution_count": 82,
   "metadata": {},
   "outputs": [],
   "source": [
    "import pandas as pd # data processing, CSV file I/O (e.g. pd.read_csv)\n",
    "import geopandas as gpd # geospatial data processing\n",
    "import numpy as np # linear algebra operations\n",
    "import matplotlib.pyplot as plt # plotting\n",
    "import sklearn.linear_model as lm # linear regression\n",
    "from sklearn.feature_selection import SequentialFeatureSelector # subset selection\n",
    "from sklearn.model_selection import train_test_split # train-test split of data\n",
    "from sklearn.metrics import mean_squared_error # MSE calculator"
   ]
  },
  {
   "attachments": {},
   "cell_type": "markdown",
   "metadata": {},
   "source": [
    "# Import and Clean Data\n",
    "\n",
    "### Importing the Data"
   ]
  },
  {
   "cell_type": "code",
   "execution_count": 83,
   "metadata": {},
   "outputs": [
    {
     "name": "stdout",
     "output_type": "stream",
     "text": [
      "(678656, 80)\n"
     ]
    }
   ],
   "source": [
    "housing_org = pd.read_csv(\"housing.csv\", low_memory=False)  # read in data\n",
    "crimes_org = pd.read_csv(\"crimes.csv\", low_memory=False)\n",
    "parks_org = gpd.read_file(\"park.geojson\")\n",
    "tract_boundaries = gpd.read_file('b.geojson')\\\n",
    "# shoudl take around 30-40 seconds to run\n",
    "print(housing_org.shape)"
   ]
  },
  {
   "attachments": {},
   "cell_type": "markdown",
   "metadata": {},
   "source": [
    "### Filtering the Data"
   ]
  },
  {
   "cell_type": "code",
   "execution_count": 84,
   "metadata": {},
   "outputs": [],
   "source": [
    "crimes_filt = crimes_org[crimes_org['Latitude'] > 41 ]\n",
    "crimes_filt = crimes_filt[crimes_filt['Latitude'] < 43]\n",
    "crimes_filt = crimes_filt[crimes_filt['Longitude'] > -88]\n",
    "crimes_filt = crimes_filt[crimes_filt['Longitude'] < -87.5]\n",
    "\n",
    "parks_org.x_coord = parks_org.x_coord.astype(float)\n",
    "parks_org.y_coord = parks_org.y_coord.astype(float)\n",
    "parks_org.objectid_1 = parks_org.objectid_1.astype(int)\n",
    "parks_org.gisobjid = parks_org.gisobjid.astype(float)\n",
    "parks_org.park_no = parks_org.park_no.astype(float)\n",
    "\n",
    "parks_filt = parks_org[(parks_org['y_coord']) > 41 ]\n",
    "parks_filt = parks_filt[parks_filt['y_coord'] < 43]\n",
    "parks_filt = parks_filt[parks_filt['x_coord'] > -88]\n",
    "parks_filt = parks_filt[parks_filt['x_coord'] < -87.5]"
   ]
  },
  {
   "cell_type": "code",
   "execution_count": 85,
   "metadata": {},
   "outputs": [
    {
     "name": "stdout",
     "output_type": "stream",
     "text": [
      "(678656, 50)\n",
      "(78156, 50)\n"
     ]
    },
    {
     "name": "stderr",
     "output_type": "stream",
     "text": [
      "/var/folders/w5/_4fbzd_52lz_ghtnf_r3jf7c0000gn/T/ipykernel_5350/3733692750.py:56: SettingWithCopyWarning: \n",
      "A value is trying to be set on a copy of a slice from a DataFrame\n",
      "\n",
      "See the caveats in the documentation: https://pandas.pydata.org/pandas-docs/stable/user_guide/indexing.html#returning-a-view-versus-a-copy\n",
      "  housing_filt.dropna(subset=[\"Sale Price\"], inplace=True)\n"
     ]
    }
   ],
   "source": [
    "housing_filt = housing_org[\n",
    "    [\n",
    "        \"Property Index Number\",\n",
    "        \"Property Class\",\n",
    "        \"Township Name\",\n",
    "        \"Number of Active 288s (HIEs)\",\n",
    "        \"Number of Ended 288s (HIEs)\",\n",
    "        \"Sale Price\",\n",
    "        \"Land Square Feet\",\n",
    "        \"Large Home Indicator\",\n",
    "        \"Age\",\n",
    "        \"Apartments\",\n",
    "        \"Wall Material\",\n",
    "        \"Roof Material\",\n",
    "        \"Rooms\",\n",
    "        \"Bedrooms\",\n",
    "        \"Basement\",\n",
    "        \"Basement Finish\",\n",
    "        \"Central Heating\",\n",
    "        \"Central Air Conditioning\",\n",
    "        \"Fireplaces\",\n",
    "        \"Attic Type\",\n",
    "        \"Full Baths\",\n",
    "        \"Half Baths\",\n",
    "        \"Cathedral Ceiling\",\n",
    "        \"Garage 1 Size\",\n",
    "        \"Garage 1 Material\",\n",
    "        \"Garage 1 Attached\",\n",
    "        \"Garage 1 Area\",\n",
    "        \"Building Square Feet\",\n",
    "        \"Repair Condition\",\n",
    "        \"Attic Finish\",\n",
    "        \"Renovation\",\n",
    "        \"Porch\",\n",
    "        \"Tract GEOID\",\n",
    "        \"O'Hare Noise Indicator\",\n",
    "        \"FEMA Floodplain\",\n",
    "        \"Flood Risk Factor\",\n",
    "        \"Flood Risk Direction\",\n",
    "        \"Road Proximity < 100 Feet\",\n",
    "        \"Road Proximity 101 - 300 Feet\",\n",
    "        \"Elementary/Middle School District\",\n",
    "        \"High School District\",\n",
    "        \"Longitude\",\n",
    "        \"Latitude\",\n",
    "        \"Tax Rate\",\n",
    "        \"Tract Median Income\",\n",
    "        \"Modeled Sale Year\",\n",
    "        \"Modeled Sale Month\",\n",
    "        \"Modeled Sale Day\",\n",
    "        \"Modeled Sale During School Year\",\n",
    "        \"Modeled Sale During Holidays\",\n",
    "    ]\n",
    "]\n",
    "print(housing_filt.shape)\n",
    "housing_filt.dropna(subset=[\"Sale Price\"], inplace=True)\n",
    "print(housing_filt.shape)"
   ]
  },
  {
   "attachments": {},
   "cell_type": "markdown",
   "metadata": {},
   "source": [
    "### Cleaning Data"
   ]
  },
  {
   "cell_type": "code",
   "execution_count": 86,
   "metadata": {},
   "outputs": [
    {
     "name": "stdout",
     "output_type": "stream",
     "text": [
      "(78156, 49)\n"
     ]
    },
    {
     "name": "stderr",
     "output_type": "stream",
     "text": [
      "/var/folders/w5/_4fbzd_52lz_ghtnf_r3jf7c0000gn/T/ipykernel_5350/1399013164.py:6: SettingWithCopyWarning: \n",
      "A value is trying to be set on a copy of a slice from a DataFrame\n",
      "\n",
      "See the caveats in the documentation: https://pandas.pydata.org/pandas-docs/stable/user_guide/indexing.html#returning-a-view-versus-a-copy\n",
      "  housing_filt[x].replace(housing_filt[x].unique(), range(len(housing_filt[x].unique())), inplace=True)\n",
      "/var/folders/w5/_4fbzd_52lz_ghtnf_r3jf7c0000gn/T/ipykernel_5350/1399013164.py:7: SettingWithCopyWarning: \n",
      "A value is trying to be set on a copy of a slice from a DataFrame.\n",
      "Try using .loc[row_indexer,col_indexer] = value instead\n",
      "\n",
      "See the caveats in the documentation: https://pandas.pydata.org/pandas-docs/stable/user_guide/indexing.html#returning-a-view-versus-a-copy\n",
      "  housing_filt[x] = housing_filt[x].astype('category')\n",
      "/var/folders/w5/_4fbzd_52lz_ghtnf_r3jf7c0000gn/T/ipykernel_5350/1399013164.py:6: SettingWithCopyWarning: \n",
      "A value is trying to be set on a copy of a slice from a DataFrame\n",
      "\n",
      "See the caveats in the documentation: https://pandas.pydata.org/pandas-docs/stable/user_guide/indexing.html#returning-a-view-versus-a-copy\n",
      "  housing_filt[x].replace(housing_filt[x].unique(), range(len(housing_filt[x].unique())), inplace=True)\n",
      "/var/folders/w5/_4fbzd_52lz_ghtnf_r3jf7c0000gn/T/ipykernel_5350/1399013164.py:7: SettingWithCopyWarning: \n",
      "A value is trying to be set on a copy of a slice from a DataFrame.\n",
      "Try using .loc[row_indexer,col_indexer] = value instead\n",
      "\n",
      "See the caveats in the documentation: https://pandas.pydata.org/pandas-docs/stable/user_guide/indexing.html#returning-a-view-versus-a-copy\n",
      "  housing_filt[x] = housing_filt[x].astype('category')\n",
      "/var/folders/w5/_4fbzd_52lz_ghtnf_r3jf7c0000gn/T/ipykernel_5350/1399013164.py:6: SettingWithCopyWarning: \n",
      "A value is trying to be set on a copy of a slice from a DataFrame\n",
      "\n",
      "See the caveats in the documentation: https://pandas.pydata.org/pandas-docs/stable/user_guide/indexing.html#returning-a-view-versus-a-copy\n",
      "  housing_filt[x].replace(housing_filt[x].unique(), range(len(housing_filt[x].unique())), inplace=True)\n",
      "/var/folders/w5/_4fbzd_52lz_ghtnf_r3jf7c0000gn/T/ipykernel_5350/1399013164.py:7: SettingWithCopyWarning: \n",
      "A value is trying to be set on a copy of a slice from a DataFrame.\n",
      "Try using .loc[row_indexer,col_indexer] = value instead\n",
      "\n",
      "See the caveats in the documentation: https://pandas.pydata.org/pandas-docs/stable/user_guide/indexing.html#returning-a-view-versus-a-copy\n",
      "  housing_filt[x] = housing_filt[x].astype('category')\n",
      "/var/folders/w5/_4fbzd_52lz_ghtnf_r3jf7c0000gn/T/ipykernel_5350/1399013164.py:6: SettingWithCopyWarning: \n",
      "A value is trying to be set on a copy of a slice from a DataFrame\n",
      "\n",
      "See the caveats in the documentation: https://pandas.pydata.org/pandas-docs/stable/user_guide/indexing.html#returning-a-view-versus-a-copy\n",
      "  housing_filt[x].replace(housing_filt[x].unique(), range(len(housing_filt[x].unique())), inplace=True)\n",
      "/var/folders/w5/_4fbzd_52lz_ghtnf_r3jf7c0000gn/T/ipykernel_5350/1399013164.py:7: SettingWithCopyWarning: \n",
      "A value is trying to be set on a copy of a slice from a DataFrame.\n",
      "Try using .loc[row_indexer,col_indexer] = value instead\n",
      "\n",
      "See the caveats in the documentation: https://pandas.pydata.org/pandas-docs/stable/user_guide/indexing.html#returning-a-view-versus-a-copy\n",
      "  housing_filt[x] = housing_filt[x].astype('category')\n",
      "/var/folders/w5/_4fbzd_52lz_ghtnf_r3jf7c0000gn/T/ipykernel_5350/1399013164.py:6: SettingWithCopyWarning: \n",
      "A value is trying to be set on a copy of a slice from a DataFrame\n",
      "\n",
      "See the caveats in the documentation: https://pandas.pydata.org/pandas-docs/stable/user_guide/indexing.html#returning-a-view-versus-a-copy\n",
      "  housing_filt[x].replace(housing_filt[x].unique(), range(len(housing_filt[x].unique())), inplace=True)\n",
      "/var/folders/w5/_4fbzd_52lz_ghtnf_r3jf7c0000gn/T/ipykernel_5350/1399013164.py:7: SettingWithCopyWarning: \n",
      "A value is trying to be set on a copy of a slice from a DataFrame.\n",
      "Try using .loc[row_indexer,col_indexer] = value instead\n",
      "\n",
      "See the caveats in the documentation: https://pandas.pydata.org/pandas-docs/stable/user_guide/indexing.html#returning-a-view-versus-a-copy\n",
      "  housing_filt[x] = housing_filt[x].astype('category')\n",
      "/var/folders/w5/_4fbzd_52lz_ghtnf_r3jf7c0000gn/T/ipykernel_5350/1399013164.py:6: SettingWithCopyWarning: \n",
      "A value is trying to be set on a copy of a slice from a DataFrame\n",
      "\n",
      "See the caveats in the documentation: https://pandas.pydata.org/pandas-docs/stable/user_guide/indexing.html#returning-a-view-versus-a-copy\n",
      "  housing_filt[x].replace(housing_filt[x].unique(), range(len(housing_filt[x].unique())), inplace=True)\n",
      "/var/folders/w5/_4fbzd_52lz_ghtnf_r3jf7c0000gn/T/ipykernel_5350/1399013164.py:7: SettingWithCopyWarning: \n",
      "A value is trying to be set on a copy of a slice from a DataFrame.\n",
      "Try using .loc[row_indexer,col_indexer] = value instead\n",
      "\n",
      "See the caveats in the documentation: https://pandas.pydata.org/pandas-docs/stable/user_guide/indexing.html#returning-a-view-versus-a-copy\n",
      "  housing_filt[x] = housing_filt[x].astype('category')\n",
      "/var/folders/w5/_4fbzd_52lz_ghtnf_r3jf7c0000gn/T/ipykernel_5350/1399013164.py:6: SettingWithCopyWarning: \n",
      "A value is trying to be set on a copy of a slice from a DataFrame\n",
      "\n",
      "See the caveats in the documentation: https://pandas.pydata.org/pandas-docs/stable/user_guide/indexing.html#returning-a-view-versus-a-copy\n",
      "  housing_filt[x].replace(housing_filt[x].unique(), range(len(housing_filt[x].unique())), inplace=True)\n",
      "/var/folders/w5/_4fbzd_52lz_ghtnf_r3jf7c0000gn/T/ipykernel_5350/1399013164.py:7: SettingWithCopyWarning: \n",
      "A value is trying to be set on a copy of a slice from a DataFrame.\n",
      "Try using .loc[row_indexer,col_indexer] = value instead\n",
      "\n",
      "See the caveats in the documentation: https://pandas.pydata.org/pandas-docs/stable/user_guide/indexing.html#returning-a-view-versus-a-copy\n",
      "  housing_filt[x] = housing_filt[x].astype('category')\n",
      "/var/folders/w5/_4fbzd_52lz_ghtnf_r3jf7c0000gn/T/ipykernel_5350/1399013164.py:6: SettingWithCopyWarning: \n",
      "A value is trying to be set on a copy of a slice from a DataFrame\n",
      "\n",
      "See the caveats in the documentation: https://pandas.pydata.org/pandas-docs/stable/user_guide/indexing.html#returning-a-view-versus-a-copy\n",
      "  housing_filt[x].replace(housing_filt[x].unique(), range(len(housing_filt[x].unique())), inplace=True)\n",
      "/var/folders/w5/_4fbzd_52lz_ghtnf_r3jf7c0000gn/T/ipykernel_5350/1399013164.py:7: SettingWithCopyWarning: \n",
      "A value is trying to be set on a copy of a slice from a DataFrame.\n",
      "Try using .loc[row_indexer,col_indexer] = value instead\n",
      "\n",
      "See the caveats in the documentation: https://pandas.pydata.org/pandas-docs/stable/user_guide/indexing.html#returning-a-view-versus-a-copy\n",
      "  housing_filt[x] = housing_filt[x].astype('category')\n",
      "/var/folders/w5/_4fbzd_52lz_ghtnf_r3jf7c0000gn/T/ipykernel_5350/1399013164.py:6: SettingWithCopyWarning: \n",
      "A value is trying to be set on a copy of a slice from a DataFrame\n",
      "\n",
      "See the caveats in the documentation: https://pandas.pydata.org/pandas-docs/stable/user_guide/indexing.html#returning-a-view-versus-a-copy\n",
      "  housing_filt[x].replace(housing_filt[x].unique(), range(len(housing_filt[x].unique())), inplace=True)\n",
      "/var/folders/w5/_4fbzd_52lz_ghtnf_r3jf7c0000gn/T/ipykernel_5350/1399013164.py:7: SettingWithCopyWarning: \n",
      "A value is trying to be set on a copy of a slice from a DataFrame.\n",
      "Try using .loc[row_indexer,col_indexer] = value instead\n",
      "\n",
      "See the caveats in the documentation: https://pandas.pydata.org/pandas-docs/stable/user_guide/indexing.html#returning-a-view-versus-a-copy\n",
      "  housing_filt[x] = housing_filt[x].astype('category')\n",
      "/var/folders/w5/_4fbzd_52lz_ghtnf_r3jf7c0000gn/T/ipykernel_5350/1399013164.py:6: SettingWithCopyWarning: \n",
      "A value is trying to be set on a copy of a slice from a DataFrame\n",
      "\n",
      "See the caveats in the documentation: https://pandas.pydata.org/pandas-docs/stable/user_guide/indexing.html#returning-a-view-versus-a-copy\n",
      "  housing_filt[x].replace(housing_filt[x].unique(), range(len(housing_filt[x].unique())), inplace=True)\n",
      "/var/folders/w5/_4fbzd_52lz_ghtnf_r3jf7c0000gn/T/ipykernel_5350/1399013164.py:7: SettingWithCopyWarning: \n",
      "A value is trying to be set on a copy of a slice from a DataFrame.\n",
      "Try using .loc[row_indexer,col_indexer] = value instead\n",
      "\n",
      "See the caveats in the documentation: https://pandas.pydata.org/pandas-docs/stable/user_guide/indexing.html#returning-a-view-versus-a-copy\n",
      "  housing_filt[x] = housing_filt[x].astype('category')\n",
      "/var/folders/w5/_4fbzd_52lz_ghtnf_r3jf7c0000gn/T/ipykernel_5350/1399013164.py:6: SettingWithCopyWarning: \n",
      "A value is trying to be set on a copy of a slice from a DataFrame\n",
      "\n",
      "See the caveats in the documentation: https://pandas.pydata.org/pandas-docs/stable/user_guide/indexing.html#returning-a-view-versus-a-copy\n",
      "  housing_filt[x].replace(housing_filt[x].unique(), range(len(housing_filt[x].unique())), inplace=True)\n",
      "/var/folders/w5/_4fbzd_52lz_ghtnf_r3jf7c0000gn/T/ipykernel_5350/1399013164.py:7: SettingWithCopyWarning: \n",
      "A value is trying to be set on a copy of a slice from a DataFrame.\n",
      "Try using .loc[row_indexer,col_indexer] = value instead\n",
      "\n",
      "See the caveats in the documentation: https://pandas.pydata.org/pandas-docs/stable/user_guide/indexing.html#returning-a-view-versus-a-copy\n",
      "  housing_filt[x] = housing_filt[x].astype('category')\n",
      "/var/folders/w5/_4fbzd_52lz_ghtnf_r3jf7c0000gn/T/ipykernel_5350/1399013164.py:6: SettingWithCopyWarning: \n",
      "A value is trying to be set on a copy of a slice from a DataFrame\n",
      "\n",
      "See the caveats in the documentation: https://pandas.pydata.org/pandas-docs/stable/user_guide/indexing.html#returning-a-view-versus-a-copy\n",
      "  housing_filt[x].replace(housing_filt[x].unique(), range(len(housing_filt[x].unique())), inplace=True)\n",
      "/var/folders/w5/_4fbzd_52lz_ghtnf_r3jf7c0000gn/T/ipykernel_5350/1399013164.py:7: SettingWithCopyWarning: \n",
      "A value is trying to be set on a copy of a slice from a DataFrame.\n",
      "Try using .loc[row_indexer,col_indexer] = value instead\n",
      "\n",
      "See the caveats in the documentation: https://pandas.pydata.org/pandas-docs/stable/user_guide/indexing.html#returning-a-view-versus-a-copy\n",
      "  housing_filt[x] = housing_filt[x].astype('category')\n",
      "/var/folders/w5/_4fbzd_52lz_ghtnf_r3jf7c0000gn/T/ipykernel_5350/1399013164.py:6: SettingWithCopyWarning: \n",
      "A value is trying to be set on a copy of a slice from a DataFrame\n",
      "\n",
      "See the caveats in the documentation: https://pandas.pydata.org/pandas-docs/stable/user_guide/indexing.html#returning-a-view-versus-a-copy\n",
      "  housing_filt[x].replace(housing_filt[x].unique(), range(len(housing_filt[x].unique())), inplace=True)\n",
      "/var/folders/w5/_4fbzd_52lz_ghtnf_r3jf7c0000gn/T/ipykernel_5350/1399013164.py:7: SettingWithCopyWarning: \n",
      "A value is trying to be set on a copy of a slice from a DataFrame.\n",
      "Try using .loc[row_indexer,col_indexer] = value instead\n",
      "\n",
      "See the caveats in the documentation: https://pandas.pydata.org/pandas-docs/stable/user_guide/indexing.html#returning-a-view-versus-a-copy\n",
      "  housing_filt[x] = housing_filt[x].astype('category')\n",
      "/var/folders/w5/_4fbzd_52lz_ghtnf_r3jf7c0000gn/T/ipykernel_5350/1399013164.py:6: SettingWithCopyWarning: \n",
      "A value is trying to be set on a copy of a slice from a DataFrame\n",
      "\n",
      "See the caveats in the documentation: https://pandas.pydata.org/pandas-docs/stable/user_guide/indexing.html#returning-a-view-versus-a-copy\n",
      "  housing_filt[x].replace(housing_filt[x].unique(), range(len(housing_filt[x].unique())), inplace=True)\n",
      "/var/folders/w5/_4fbzd_52lz_ghtnf_r3jf7c0000gn/T/ipykernel_5350/1399013164.py:7: SettingWithCopyWarning: \n",
      "A value is trying to be set on a copy of a slice from a DataFrame.\n",
      "Try using .loc[row_indexer,col_indexer] = value instead\n",
      "\n",
      "See the caveats in the documentation: https://pandas.pydata.org/pandas-docs/stable/user_guide/indexing.html#returning-a-view-versus-a-copy\n",
      "  housing_filt[x] = housing_filt[x].astype('category')\n",
      "/var/folders/w5/_4fbzd_52lz_ghtnf_r3jf7c0000gn/T/ipykernel_5350/1399013164.py:6: SettingWithCopyWarning: \n",
      "A value is trying to be set on a copy of a slice from a DataFrame\n",
      "\n",
      "See the caveats in the documentation: https://pandas.pydata.org/pandas-docs/stable/user_guide/indexing.html#returning-a-view-versus-a-copy\n",
      "  housing_filt[x].replace(housing_filt[x].unique(), range(len(housing_filt[x].unique())), inplace=True)\n",
      "/var/folders/w5/_4fbzd_52lz_ghtnf_r3jf7c0000gn/T/ipykernel_5350/1399013164.py:7: SettingWithCopyWarning: \n",
      "A value is trying to be set on a copy of a slice from a DataFrame.\n",
      "Try using .loc[row_indexer,col_indexer] = value instead\n",
      "\n",
      "See the caveats in the documentation: https://pandas.pydata.org/pandas-docs/stable/user_guide/indexing.html#returning-a-view-versus-a-copy\n",
      "  housing_filt[x] = housing_filt[x].astype('category')\n",
      "/var/folders/w5/_4fbzd_52lz_ghtnf_r3jf7c0000gn/T/ipykernel_5350/1399013164.py:6: SettingWithCopyWarning: \n",
      "A value is trying to be set on a copy of a slice from a DataFrame\n",
      "\n",
      "See the caveats in the documentation: https://pandas.pydata.org/pandas-docs/stable/user_guide/indexing.html#returning-a-view-versus-a-copy\n",
      "  housing_filt[x].replace(housing_filt[x].unique(), range(len(housing_filt[x].unique())), inplace=True)\n",
      "/var/folders/w5/_4fbzd_52lz_ghtnf_r3jf7c0000gn/T/ipykernel_5350/1399013164.py:7: SettingWithCopyWarning: \n",
      "A value is trying to be set on a copy of a slice from a DataFrame.\n",
      "Try using .loc[row_indexer,col_indexer] = value instead\n",
      "\n",
      "See the caveats in the documentation: https://pandas.pydata.org/pandas-docs/stable/user_guide/indexing.html#returning-a-view-versus-a-copy\n",
      "  housing_filt[x] = housing_filt[x].astype('category')\n",
      "/var/folders/w5/_4fbzd_52lz_ghtnf_r3jf7c0000gn/T/ipykernel_5350/1399013164.py:6: SettingWithCopyWarning: \n",
      "A value is trying to be set on a copy of a slice from a DataFrame\n",
      "\n",
      "See the caveats in the documentation: https://pandas.pydata.org/pandas-docs/stable/user_guide/indexing.html#returning-a-view-versus-a-copy\n",
      "  housing_filt[x].replace(housing_filt[x].unique(), range(len(housing_filt[x].unique())), inplace=True)\n",
      "/var/folders/w5/_4fbzd_52lz_ghtnf_r3jf7c0000gn/T/ipykernel_5350/1399013164.py:7: SettingWithCopyWarning: \n",
      "A value is trying to be set on a copy of a slice from a DataFrame.\n",
      "Try using .loc[row_indexer,col_indexer] = value instead\n",
      "\n",
      "See the caveats in the documentation: https://pandas.pydata.org/pandas-docs/stable/user_guide/indexing.html#returning-a-view-versus-a-copy\n",
      "  housing_filt[x] = housing_filt[x].astype('category')\n",
      "/var/folders/w5/_4fbzd_52lz_ghtnf_r3jf7c0000gn/T/ipykernel_5350/1399013164.py:6: SettingWithCopyWarning: \n",
      "A value is trying to be set on a copy of a slice from a DataFrame\n",
      "\n",
      "See the caveats in the documentation: https://pandas.pydata.org/pandas-docs/stable/user_guide/indexing.html#returning-a-view-versus-a-copy\n",
      "  housing_filt[x].replace(housing_filt[x].unique(), range(len(housing_filt[x].unique())), inplace=True)\n",
      "/var/folders/w5/_4fbzd_52lz_ghtnf_r3jf7c0000gn/T/ipykernel_5350/1399013164.py:7: SettingWithCopyWarning: \n",
      "A value is trying to be set on a copy of a slice from a DataFrame.\n",
      "Try using .loc[row_indexer,col_indexer] = value instead\n",
      "\n",
      "See the caveats in the documentation: https://pandas.pydata.org/pandas-docs/stable/user_guide/indexing.html#returning-a-view-versus-a-copy\n",
      "  housing_filt[x] = housing_filt[x].astype('category')\n",
      "/var/folders/w5/_4fbzd_52lz_ghtnf_r3jf7c0000gn/T/ipykernel_5350/1399013164.py:6: SettingWithCopyWarning: \n",
      "A value is trying to be set on a copy of a slice from a DataFrame\n",
      "\n",
      "See the caveats in the documentation: https://pandas.pydata.org/pandas-docs/stable/user_guide/indexing.html#returning-a-view-versus-a-copy\n",
      "  housing_filt[x].replace(housing_filt[x].unique(), range(len(housing_filt[x].unique())), inplace=True)\n",
      "/var/folders/w5/_4fbzd_52lz_ghtnf_r3jf7c0000gn/T/ipykernel_5350/1399013164.py:7: SettingWithCopyWarning: \n",
      "A value is trying to be set on a copy of a slice from a DataFrame.\n",
      "Try using .loc[row_indexer,col_indexer] = value instead\n",
      "\n",
      "See the caveats in the documentation: https://pandas.pydata.org/pandas-docs/stable/user_guide/indexing.html#returning-a-view-versus-a-copy\n",
      "  housing_filt[x] = housing_filt[x].astype('category')\n"
     ]
    },
    {
     "name": "stdout",
     "output_type": "stream",
     "text": [
      "(78156, 49)\n",
      "(45572, 49)\n"
     ]
    },
    {
     "name": "stderr",
     "output_type": "stream",
     "text": [
      "/var/folders/w5/_4fbzd_52lz_ghtnf_r3jf7c0000gn/T/ipykernel_5350/1399013164.py:6: SettingWithCopyWarning: \n",
      "A value is trying to be set on a copy of a slice from a DataFrame\n",
      "\n",
      "See the caveats in the documentation: https://pandas.pydata.org/pandas-docs/stable/user_guide/indexing.html#returning-a-view-versus-a-copy\n",
      "  housing_filt[x].replace(housing_filt[x].unique(), range(len(housing_filt[x].unique())), inplace=True)\n",
      "/var/folders/w5/_4fbzd_52lz_ghtnf_r3jf7c0000gn/T/ipykernel_5350/1399013164.py:7: SettingWithCopyWarning: \n",
      "A value is trying to be set on a copy of a slice from a DataFrame.\n",
      "Try using .loc[row_indexer,col_indexer] = value instead\n",
      "\n",
      "See the caveats in the documentation: https://pandas.pydata.org/pandas-docs/stable/user_guide/indexing.html#returning-a-view-versus-a-copy\n",
      "  housing_filt[x] = housing_filt[x].astype('category')\n",
      "/var/folders/w5/_4fbzd_52lz_ghtnf_r3jf7c0000gn/T/ipykernel_5350/1399013164.py:6: SettingWithCopyWarning: \n",
      "A value is trying to be set on a copy of a slice from a DataFrame\n",
      "\n",
      "See the caveats in the documentation: https://pandas.pydata.org/pandas-docs/stable/user_guide/indexing.html#returning-a-view-versus-a-copy\n",
      "  housing_filt[x].replace(housing_filt[x].unique(), range(len(housing_filt[x].unique())), inplace=True)\n",
      "/var/folders/w5/_4fbzd_52lz_ghtnf_r3jf7c0000gn/T/ipykernel_5350/1399013164.py:7: SettingWithCopyWarning: \n",
      "A value is trying to be set on a copy of a slice from a DataFrame.\n",
      "Try using .loc[row_indexer,col_indexer] = value instead\n",
      "\n",
      "See the caveats in the documentation: https://pandas.pydata.org/pandas-docs/stable/user_guide/indexing.html#returning-a-view-versus-a-copy\n",
      "  housing_filt[x] = housing_filt[x].astype('category')\n"
     ]
    }
   ],
   "source": [
    "if 'Property Index Number' in housing_filt.columns: # set PIN as index\n",
    "\thousing_filt.set_index('Property Index Number', inplace=True)\n",
    "print(housing_filt.shape)\n",
    "for x in housing_filt.columns: # convert all columns to numeric \n",
    "\tif housing_filt[x].dtype == 'object':\n",
    "\t\thousing_filt[x].replace(housing_filt[x].unique(), range(len(housing_filt[x].unique())), inplace=True)\n",
    "\t\thousing_filt[x] = housing_filt[x].astype('category')\n",
    "\n",
    "print(housing_filt.shape)\n",
    "housing_filt = housing_filt.dropna()\n",
    "print(housing_filt.shape)"
   ]
  },
  {
   "attachments": {},
   "cell_type": "markdown",
   "metadata": {},
   "source": [
    "### Constructing Geospatial DataSets"
   ]
  },
  {
   "cell_type": "code",
   "execution_count": 87,
   "metadata": {},
   "outputs": [
    {
     "name": "stdout",
     "output_type": "stream",
     "text": [
      "(45572, 50)\n"
     ]
    }
   ],
   "source": [
    "# tract_boundaries.geoid10 = tract_boundaries.geoid10.astype(int)\n",
    "\n",
    "housing = gpd.GeoDataFrame(housing_filt, crs=\"EPSG:4326\", geometry=gpd.points_from_xy(housing_filt.Longitude, housing_filt.Latitude))\n",
    "housing.rename(columns={'Tract GEOID': 'geoid10'}, inplace=True)\n",
    "print(housing.shape)\n",
    "\n",
    "crimes = gpd.GeoDataFrame(\n",
    "    crimes_filt,\n",
    "    crs=\"EPSG:4326\",\n",
    "    geometry=gpd.points_from_xy(crimes_filt. Longitude, crimes_filt.Latitude),\n",
    ")\n",
    "crimes = gpd.sjoin(crimes, tract_boundaries, how=\"left\", predicate=\"within\")\n",
    "\n",
    "parks = gpd.GeoDataFrame(\n",
    "    parks_filt,\n",
    "    crs=\"EPSG:4326\",\n",
    "    geometry=gpd.points_from_xy(parks_filt.x_coord, parks_filt.y_coord),\n",
    ")\n",
    "parks = gpd.sjoin(parks, tract_boundaries, how=\"left\", predicate=\"within\")"
   ]
  },
  {
   "attachments": {},
   "cell_type": "markdown",
   "metadata": {},
   "source": [
    "### Create dataset by districts"
   ]
  },
  {
   "cell_type": "code",
   "execution_count": 88,
   "metadata": {},
   "outputs": [],
   "source": [
    "crime_counts = crimes.groupby(\"geoid10\", as_index=False)[\"ID\"].count()\n",
    "park_counts = parks.groupby(\"geoid10\", as_index=False)[\"objectid_1\"].count()\n",
    "housing_avgs = (\n",
    "    housing.groupby(\"geoid10\", as_index=False)[\"Sale Price\"].mean().reset_index()\n",
    ")\n",
    "\n",
    "housing_avgs.geoid10 = housing_avgs.geoid10.astype(int)\n",
    "\n",
    "districts = crime_counts.merge(park_counts, on=\"geoid10\")\n",
    "districts.geoid10 = districts.geoid10.astype(int)\n",
    "districts = districts.merge(housing_avgs, on=\"geoid10\")\n",
    "districts.rename(columns={\"Sale Price\": \"avg_sale\"}, inplace=True)\n",
    "districts.rename(columns={\"ID\": \"crime_count\"}, inplace=True)\n",
    "districts.rename(columns={\"objectid_1\": \"park_count\"}, inplace=True)"
   ]
  },
  {
   "attachments": {},
   "cell_type": "markdown",
   "metadata": {},
   "source": [
    "### Add district data to individual house data"
   ]
  },
  {
   "cell_type": "code",
   "execution_count": 89,
   "metadata": {},
   "outputs": [
    {
     "name": "stdout",
     "output_type": "stream",
     "text": [
      "(45572, 50)\n",
      "(45572, 54)\n"
     ]
    }
   ],
   "source": [
    "print(housing.shape)\n",
    "housing2 = housing.merge(districts, on=\"geoid10\", how=\"left\")\n",
    "print(housing2.shape)"
   ]
  },
  {
   "attachments": {},
   "cell_type": "markdown",
   "metadata": {},
   "source": [
    "# Impact of Individual House Price"
   ]
  },
  {
   "attachments": {},
   "cell_type": "markdown",
   "metadata": {},
   "source": [
    "### Train Test Split"
   ]
  },
  {
   "attachments": {},
   "cell_type": "markdown",
   "metadata": {},
   "source": [
    "### Ridge"
   ]
  },
  {
   "attachments": {},
   "cell_type": "markdown",
   "metadata": {},
   "source": [
    "### Lasso"
   ]
  },
  {
   "attachments": {},
   "cell_type": "markdown",
   "metadata": {},
   "source": [
    "### Visualizations"
   ]
  },
  {
   "attachments": {},
   "cell_type": "markdown",
   "metadata": {},
   "source": [
    "# Impact of neighborhood"
   ]
  },
  {
   "cell_type": "code",
   "execution_count": 90,
   "metadata": {},
   "outputs": [
    {
     "data": {
      "image/png": "[encoded data removed]",
      "text/plain": [
       "<Figure size 640x480 with 2 Axes>"
      ]
     },
     "metadata": {},
     "output_type": "display_data"
    }
   ],
   "source": [
    "df = crimes.dropna(subset=['Longitude', 'Latitude'])\n",
    "\n",
    "heatmap, xedges, yedges = np.histogram2d(df.Longitude, df.Latitude, bins=30)\n",
    "extent = [xedges[0], xedges[-1], yedges[0], yedges[-1]]\n",
    "plt.clf()\n",
    "plt.title(\"# of Crimes heatmap of chicago\")\n",
    "plt.xlabel(\"Longitude\")\n",
    "plt.ylabel(\"Latitude\")\n",
    "plt.imshow(heatmap.T, extent=extent, origin='lower')\n",
    "plt.colorbar()\n",
    "plt.show()"
   ]
  },
  {
   "cell_type": "code",
   "execution_count": 91,
   "metadata": {},
   "outputs": [
    {
     "data": {
      "image/png": "[encoded data removed]",
      "text/plain": [
       "<Figure size 640x480 with 2 Axes>"
      ]
     },
     "metadata": {},
     "output_type": "display_data"
    }
   ],
   "source": [
    "df = parks.dropna(subset=['x_coord', 'y_coord'])\n",
    "df.x_coord = df.x_coord.astype(float)\n",
    "df.y_coord = df.y_coord.astype(float)\n",
    "heatmap, xedges, yedges = np.histogram2d(df.x_coord, df.y_coord, bins=30)\n",
    "extent = [xedges[0], xedges[-1], yedges[0], yedges[-1]]\n",
    "plt.clf()\n",
    "plt.title(\"# of Parks heatmap of chicago\")\n",
    "plt.imshow(heatmap.T, extent=extent, origin='lower')\n",
    "plt.xlabel(\"Longitude\")\n",
    "plt.ylabel(\"Latitude\")\n",
    "plt.colorbar()\n",
    "plt.show()"
   ]
  }
 ],
 "metadata": {
  "kernelspec": {
   "display_name": "Python 3",
   "language": "python",
   "name": "python3"
  },
  "language_info": {
   "codemirror_mode": {
    "name": "ipython",
    "version": 3
   },
   "file_extension": ".py",
   "mimetype": "text/x-python",
   "name": "python",
   "nbconvert_exporter": "python",
   "pygments_lexer": "ipython3",
   "version": "3.11.2"
  },
  "orig_nbformat": 4
 },
 "nbformat": 4,
 "nbformat_minor": 2
}
