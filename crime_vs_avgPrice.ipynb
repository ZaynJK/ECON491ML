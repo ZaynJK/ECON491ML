{
 "cells": [
  {
   "cell_type": "code",
   "execution_count": 88,
   "metadata": {},
   "outputs": [],
   "source": [
    "import pandas as pd\n",
    "import geopandas as gpd\n",
    "import numpy as np\n",
    "import censusdata\n",
    "import matplotlib.pyplot as plt"
   ]
  },
  {
   "attachments": {},
   "cell_type": "markdown",
   "metadata": {},
   "source": [
    "# Import the data\n",
    "\n",
    "copy paste the url up to but not including the .json to visit the website with information about the dataset\n",
    "\n",
    "the `?$limit` at the end of url signifies the number of rows to pull"
   ]
  },
  {
   "cell_type": "code",
   "execution_count": 89,
   "metadata": {},
   "outputs": [],
   "source": [
    "crime_df = pd.read_json(\"https://data.cityofchicago.org/resource/crimes.json?$limit=50000\")\n",
    "housing_df = pd.read_json(\n",
    "    \"https://datacatalog.cookcountyil.gov/resource/8f9d-wy2d.json?$limit=50000\"\n",
    ")\n",
    "tract_boundaries = gpd.read_file('b.geojson')\n"
   ]
  },
  {
   "attachments": {},
   "cell_type": "markdown",
   "metadata": {},
   "source": [
    "## Add census tract to the Crimes Dataset\n",
    "\n",
    "crs is the coordinate system and EPSG:4326 is just earths longitude and latitude\n",
    "\n",
    "gps.sjoin() joins the data sets where each row in the first df is within the 'shape' of the second df"
   ]
  },
  {
   "cell_type": "code",
   "execution_count": 90,
   "metadata": {},
   "outputs": [],
   "source": [
    "crime_gdf = gpd.GeoDataFrame(\n",
    "    crime_df,\n",
    "    crs=\"EPSG:4326\",\n",
    "    geometry=gpd.points_from_xy(crime_df.longitude, crime_df.latitude),\n",
    ")\n",
    "crime_gdf = gpd.sjoin(crime_gdf, tract_boundaries, how=\"left\", predicate=\"within\")"
   ]
  },
  {
   "attachments": {},
   "cell_type": "markdown",
   "metadata": {},
   "source": [
    "# Data Cleaning"
   ]
  },
  {
   "cell_type": "code",
   "execution_count": 94,
   "metadata": {},
   "outputs": [
    {
     "name": "stdout",
     "output_type": "stream",
     "text": [
      "           geoid  meta_sale_price  crime_counts\n",
      "0    17031010100    251400.301887         107.0\n",
      "1    17031010201    232398.200000          87.0\n",
      "2    17031010202    194247.500000         136.0\n",
      "3    17031010300    225240.279720          93.0\n",
      "4    17031010400    327220.535714          68.0\n",
      "..           ...              ...           ...\n",
      "788  17031843500    101612.000000          41.0\n",
      "789  17031843600    314150.910714          89.0\n",
      "790  17031843700    588530.662338          45.0\n",
      "791  17031843800    146902.216216          47.0\n",
      "792  17031843900     95928.145833         137.0\n",
      "\n",
      "[793 rows x 3 columns]\n"
     ]
    }
   ],
   "source": [
    "housing_df[\"geoid\"] = housing_df[\"geo_geoid\"].astype(str)[:-4]\n",
    "crime_gdf[\"geoid\"] = crime_gdf[\"geoid10\"]\n",
    "\n",
    "# print((crime_gdf['geoid10'].unique()))\n",
    "# print((housing_df['geoid'].unique()))\n",
    "\n",
    "# df = pd.DataFrame()\n",
    "# df['geoid10'] = crime_gdf['geoid10'].unique()\n",
    "# df[\"crime\"] = crime_gdf.groupby(\"geoid10\").size().values\n",
    "\n",
    "# df[\"housing\"] = housing_df.groupby(\"geoid\").mean()\n",
    "# # df['geoid'] = (crime_gdf[\"geoid10\"].unique()+housing_df[\"geoid\"].unique()).unique()\n",
    "# # df['crime'] = crime_gdf.groupby('geoid10').size().values\n",
    "crime_counts = crime_gdf[\"geoid\"].value_counts().rename_axis(\"geoid\").reset_index(name=\"crime_counts\")\n",
    "# print(crime_gdf.groupby('geoid', as_index=False)['geoid'].count())\n",
    "avg_house_sale = housing_df.groupby(\"geoid\", as_index=False)[\"meta_sale_price\"].mean()\n",
    "\n",
    "df = pd.merge(avg_house_sale, crime_counts, on=\"geoid\", how=\"left\")\n",
    "print(df)\n",
    "\n"
   ]
  },
  {
   "attachments": {},
   "cell_type": "markdown",
   "metadata": {},
   "source": [
    "# PLOT"
   ]
  },
  {
   "cell_type": "code",
   "execution_count": 95,
   "metadata": {},
   "outputs": [
    {
     "data": {
      "image/png": "[encoded data removed]",
      "text/plain": [
       "<Figure size 640x480 with 1 Axes>"
      ]
     },
     "metadata": {},
     "output_type": "display_data"
    }
   ],
   "source": [
    "plt.plot(df['crime_counts'], df['meta_sale_price'], 'o', color='black')\n",
    "plt.show()"
   ]
  }
 ],
 "metadata": {
  "kernelspec": {
   "display_name": "Python 3",
   "language": "python",
   "name": "python3"
  },
  "language_info": {
   "codemirror_mode": {
    "name": "ipython",
    "version": 3
   },
   "file_extension": ".py",
   "mimetype": "text/x-python",
   "name": "python",
   "nbconvert_exporter": "python",
   "pygments_lexer": "ipython3",
   "version": "3.11.2"
  },
  "orig_nbformat": 4
 },
 "nbformat": 4,
 "nbformat_minor": 2
}
